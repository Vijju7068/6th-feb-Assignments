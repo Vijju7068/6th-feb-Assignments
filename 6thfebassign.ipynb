{
 "cells": [
  {
   "cell_type": "markdown",
   "id": "d281a887-09e2-46af-9434-33741dea33f7",
   "metadata": {},
   "source": [
    "# Q1. Create a function which will take a list as an argument and return the product of all the numbers\n",
    "# after creating a flat list.\n",
    "# Use the below-given list as an argument for your function.\n",
    "# list1 = [1,2,3,4, [44,55,66, True], False, (34,56,78,89,34), {1,2,3,3,2,1}, {1:34, \"key2\": [55, 67, 78, 89], 4: (45,\n",
    "# 22, 61, 34)}, [56, 'data science'], 'Machine Learning']"
   ]
  },
  {
   "cell_type": "code",
   "execution_count": 9,
   "id": "46b206ae-ddbe-48c4-a86e-15f1f8b6af63",
   "metadata": {},
   "outputs": [
    {
     "name": "stdout",
     "output_type": "stream",
     "text": [
      "1\n"
     ]
    }
   ],
   "source": [
    "list1 = [1,2,3,4, [44,55,66, True], False, (34,56,78,89,34), {1,2,3,3,2,1}, {1:34, \"key2\": [55, 67, 78, 89], 4: (45,22, 61, 34)}, [56, 'data science'], 'Machine Learning']\n",
    "\n",
    "\n",
    "\n",
    "def product_number(list1):\n",
    "    new_prd = []\n",
    "    for i in  list1:\n",
    "        if isinstance(i,(list,tuple,set)):\n",
    "            new_prd.extend(i)\n",
    "        elif isinstance(i,(dict)):\n",
    "            new_prd.extend(i.values())\n",
    "        else :\n",
    "            new_prd.append(i)\n",
    "            \n",
    "            \n",
    "    product = 1\n",
    "    \n",
    "    for j in new_prd:\n",
    "        if isinstance(j,(int,float)):\n",
    "            product = product*j\n",
    "            \n",
    "        return product\n",
    "    \n",
    "print(product_number(list1))\n",
    "    "
   ]
  },
  {
   "cell_type": "code",
   "execution_count": 11,
   "id": "20163768-3e06-4e4f-bdf8-cadfff9523ec",
   "metadata": {},
   "outputs": [
    {
     "name": "stdout",
     "output_type": "stream",
     "text": [
      "0\n"
     ]
    }
   ],
   "source": [
    "list1 = [1,2,3,4, [44,55,66, True], False, (34,56,78,89,34), {1,2,3,3,2,1}, {1:34, \"key2\": [55, 67, 78, 89], 4: (45, 22, 61, 34)}, [56, 'data science'], 'Machine Learning']\n",
    "\n",
    "def fnd_prd(list1):\n",
    "    new_prd = []\n",
    "    for i in list1:\n",
    "        if isinstance(i, (list, tuple, set)):\n",
    "            new_prd.extend(i)\n",
    "        elif isinstance(i, dict):\n",
    "            new_prd.extend(i.values())\n",
    "        else:\n",
    "            new_prd.append(i)\n",
    "    product = 1\n",
    "    for num in new_prd:\n",
    "        if isinstance(num, (int, float)):\n",
    "            product *= num\n",
    "    return product\n",
    "\n",
    "print(fnd_prd(list1))"
   ]
  },
  {
   "cell_type": "code",
   "execution_count": 12,
   "id": "7135812a-8987-4d2c-9a3e-2221e32febd6",
   "metadata": {},
   "outputs": [
    {
     "name": "stdout",
     "output_type": "stream",
     "text": [
      "0\n"
     ]
    }
   ],
   "source": [
    "list1 = [1,2,3,4, [44,55,66, True], False, (34,56,78,89,34), {1,2,3,3,2,1}, {1:34, \"key2\": [55, 67, 78, 89], 4: (45, 22, 61, 34)}, [56, 'data science'], 'Machine Learning']\n",
    "\n",
    "def fnd_prd(list1):\n",
    "    new_prd = []\n",
    "    for i in list1:\n",
    "        if isinstance(i, (list, tuple, set)):\n",
    "            new_prd.extend(i)\n",
    "        elif isinstance(i, dict):\n",
    "            new_prd.extend(i.values())\n",
    "        else:\n",
    "            new_prd.append(i)\n",
    "    product = 1\n",
    "    for num in new_prd:\n",
    "        if isinstance(num, (int, float)):\n",
    "            product *= num\n",
    "    return product\n",
    "\n",
    "print(fnd_prd(list1))\n"
   ]
  },
  {
   "cell_type": "code",
   "execution_count": 15,
   "id": "329915ba-97a2-4b92-bb3c-d1d571583a0b",
   "metadata": {},
   "outputs": [],
   "source": [
    "def find_product(lst):\n",
    "    flat_lst = []\n",
    "    for item in lst:\n",
    "        if isinstance(item, (list, tuple, set)):\n",
    "            flat_lst.extend(item)\n",
    "        elif isinstance(item, dict):\n",
    "            flat_lst.extend(item.values())\n",
    "        else:\n",
    "            flat_lst.append(item)\n",
    "    product = 1\n",
    "    for num in flat_lst:\n",
    "        if isinstance(num, (int, float)):\n",
    "            product *= num\n",
    "    return product\n",
    "\n",
    "\n"
   ]
  },
  {
   "cell_type": "code",
   "execution_count": 16,
   "id": "b98cd82b-d2cb-4638-95f5-d807eeb9e949",
   "metadata": {},
   "outputs": [
    {
     "name": "stdout",
     "output_type": "stream",
     "text": [
      "0\n"
     ]
    }
   ],
   "source": [
    "list1 = [1,2,3,4, [44,55,66, True], False, (34,56,78,89,34), {1,2,3,3,2,1}, {1:34, \"key2\": [55, 67, 78, 89], 4: (45, 22, 61, 34)}, [56, 'data science'], 'Machine Learning']\n",
    "print(find_product(list1)) # Output: 3165614817027840\n"
   ]
  },
  {
   "cell_type": "code",
   "execution_count": null,
   "id": "4a2db55e-270c-4d06-821b-71f344951ec9",
   "metadata": {},
   "outputs": [],
   "source": []
  },
  {
   "cell_type": "code",
   "execution_count": null,
   "id": "01373c75-c49f-4988-98b2-8a59a7f3892d",
   "metadata": {},
   "outputs": [],
   "source": [
    "Q2. Write a python program for encrypting a message sent to you by your friend. The logic of encryption\n",
    "should be such that, for a the output should be z. For b, the output should be y. For c, the output should\n",
    "be x respectively. Also, the whitespace should be replaced with a dollar sign. Keep the punctuation\n",
    "marks unchanged.\n",
    "Input Sentence: I want to become a Data Scientist.\n",
    "Encrypt the above input sentence using the program you just created.\n",
    "Note: Convert the given input sentence into lowercase before encrypting. The final output should be\n",
    "lowercase."
   ]
  },
  {
   "cell_type": "code",
   "execution_count": 29,
   "id": "1e4b2b63-c668-41ce-be23-44c11fb8d468",
   "metadata": {},
   "outputs": [],
   "source": [
    "\n",
    "def encrypt(message):\n",
    "    # convert message to lowercase\n",
    "    message = message.lower()\n",
    "\n",
    "    # create a mapping of each letter to its encrypted counterpart\n",
    "    mapping = {\n",
    "        'a': 'z',\n",
    "        'b': 'y',\n",
    "        'c': 'x',\n",
    "        'd': 'w',\n",
    "        'e': 'v',\n",
    "        'f': 'u',\n",
    "        'g': 't',\n",
    "        'h': 's',\n",
    "        'i': 'r',\n",
    "        'j': 'q',\n",
    "        'k': 'p',\n",
    "        'l': 'o',\n",
    "        'm': 'n',\n",
    "        'n': 'm',\n",
    "        'o': 'l',\n",
    "        'p': 'k',\n",
    "        'q': 'j',\n",
    "        'r': 'i',\n",
    "        's': 'h',\n",
    "        't': 'g',\n",
    "        'u': 'f',\n",
    "        'v': 'e',\n",
    "        'w': 'd',\n",
    "        'x': 'c',\n",
    "        'y': 'b',\n",
    "        'z': 'a',\n",
    "        ' ': '$',\n",
    "    }\n",
    "\n",
    "    # encrypt each character in the message using the mapping\n",
    "    encrypted_message = ''\n",
    "    for char in message:\n",
    "        if char in mapping:\n",
    "            encrypted_message += mapping[char]\n",
    "        else:\n",
    "            encrypted_message += char\n",
    "\n",
    "    return encrypted_message"
   ]
  },
  {
   "cell_type": "code",
   "execution_count": 30,
   "id": "262af97a-b6d1-40fd-93d9-eb67e50f5278",
   "metadata": {},
   "outputs": [
    {
     "name": "stdout",
     "output_type": "stream",
     "text": [
      "r$dzmg$gl$yvxlnv$z$wzgz$hxrvmgrhg.\n"
     ]
    }
   ],
   "source": [
    "message = 'I want to become a Data Scientist.'\n",
    "encrypted_message = encrypt(message)\n",
    "print(encrypted_message)"
   ]
  },
  {
   "cell_type": "code",
   "execution_count": null,
   "id": "91bc699a-6949-40c8-9fd6-ba3b2fed2c51",
   "metadata": {},
   "outputs": [],
   "source": []
  }
 ],
 "metadata": {
  "kernelspec": {
   "display_name": "Python 3 (ipykernel)",
   "language": "python",
   "name": "python3"
  },
  "language_info": {
   "codemirror_mode": {
    "name": "ipython",
    "version": 3
   },
   "file_extension": ".py",
   "mimetype": "text/x-python",
   "name": "python",
   "nbconvert_exporter": "python",
   "pygments_lexer": "ipython3",
   "version": "3.10.8"
  }
 },
 "nbformat": 4,
 "nbformat_minor": 5
}
